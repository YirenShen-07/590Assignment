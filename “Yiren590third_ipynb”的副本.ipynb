{
  "cells": [
    {
      "cell_type": "markdown",
      "metadata": {
        "id": "view-in-github",
        "colab_type": "text"
      },
      "source": [
        "<a href=\"https://colab.research.google.com/github/YirenShen-07/590Assignment/blob/main/%E2%80%9CYiren590third_ipynb%E2%80%9D%E7%9A%84%E5%89%AF%E6%9C%AC.ipynb\" target=\"_parent\"><img src=\"https://colab.research.google.com/assets/colab-badge.svg\" alt=\"Open In Colab\"/></a>"
      ]
    },
    {
      "cell_type": "markdown",
      "metadata": {
        "id": "yQg-tKR9yYPN"
      },
      "source": [
        "#### link to the location in your github repository is above\n",
        "# AIPI 590 - XAI | Assignment #2 - Third Adversarial Patch\n",
        "\n",
        "### I created three adversarial patches, and this file contains the third adversarial patch. I used part of the professor's method and added some of my own creative components. The other two files can be found in the files on the left.\n",
        "### Yiren Shen\n",
        "\n",
        "\n",
        "[![Open In Collab](https://colab.research.google.com/assets/colab-badge.svg)](https://colab.research.google.com/github/AIPI-590-XAI/Duke-AI-XAI/blob/dev/templates/template.ipynb)"
      ]
    },
    {
      "cell_type": "code",
      "source": [
        "!pip install adversarial-robustness-toolbox"
      ],
      "metadata": {
        "colab": {
          "base_uri": "https://localhost:8080/"
        },
        "id": "iqnisDvcU_Sh",
        "outputId": "91ded130-7f65-41fb-cf86-038fc8e9f068"
      },
      "execution_count": null,
      "outputs": [
        {
          "output_type": "stream",
          "name": "stdout",
          "text": [
            "Collecting adversarial-robustness-toolbox\n",
            "  Downloading adversarial_robustness_toolbox-1.18.1-py3-none-any.whl.metadata (11 kB)\n",
            "Requirement already satisfied: numpy>=1.18.0 in /usr/local/lib/python3.10/dist-packages (from adversarial-robustness-toolbox) (1.26.4)\n",
            "Requirement already satisfied: scipy>=1.4.1 in /usr/local/lib/python3.10/dist-packages (from adversarial-robustness-toolbox) (1.13.1)\n",
            "Requirement already satisfied: scikit-learn>=0.22.2 in /usr/local/lib/python3.10/dist-packages (from adversarial-robustness-toolbox) (1.3.2)\n",
            "Requirement already satisfied: six in /usr/local/lib/python3.10/dist-packages (from adversarial-robustness-toolbox) (1.16.0)\n",
            "Requirement already satisfied: setuptools in /usr/local/lib/python3.10/dist-packages (from adversarial-robustness-toolbox) (71.0.4)\n",
            "Requirement already satisfied: tqdm in /usr/local/lib/python3.10/dist-packages (from adversarial-robustness-toolbox) (4.66.5)\n",
            "Requirement already satisfied: joblib>=1.1.1 in /usr/local/lib/python3.10/dist-packages (from scikit-learn>=0.22.2->adversarial-robustness-toolbox) (1.4.2)\n",
            "Requirement already satisfied: threadpoolctl>=2.0.0 in /usr/local/lib/python3.10/dist-packages (from scikit-learn>=0.22.2->adversarial-robustness-toolbox) (3.5.0)\n",
            "Downloading adversarial_robustness_toolbox-1.18.1-py3-none-any.whl (1.7 MB)\n",
            "\u001b[2K   \u001b[90m━━━━━━━━━━━━━━━━━━━━━━━━━━━━━━━━━━━━━━━━\u001b[0m \u001b[32m1.7/1.7 MB\u001b[0m \u001b[31m12.3 MB/s\u001b[0m eta \u001b[36m0:00:00\u001b[0m\n",
            "\u001b[?25hInstalling collected packages: adversarial-robustness-toolbox\n",
            "Successfully installed adversarial-robustness-toolbox-1.18.1\n"
          ]
        }
      ]
    },
    {
      "cell_type": "code",
      "source": [
        "import torch\n",
        "import torch.nn as nn\n",
        "import torchvision\n",
        "from torchvision.models import ResNet34_Weights\n",
        "import numpy as np\n",
        "from tqdm import tqdm\n",
        "import os\n",
        "import json\n",
        "from urllib.request import urlopen\n",
        "\n",
        "# Using the CPU and updating the model loading method\n",
        "device = torch.device(\"cpu\")\n",
        "pretrained_model = torchvision.models.resnet34(weights=ResNet34_Weights.IMAGENET1K_V1).to(device)\n",
        "\n",
        "# Download ImageNet Category List\n",
        "imagenet_classes_url = \"https://raw.githubusercontent.com/AIPI-590-XAI/Duke-AI-XAI/main/adversarial-ai-example-notebooks/imagenet_classes.txt\"\n",
        "with urlopen(imagenet_classes_url) as response:\n",
        "    imagenet_classes = response.read().decode().splitlines()\n",
        "\n",
        "# Creating smaller simulated ImageNet datasets\n",
        "class SimulatedImageNet(torch.utils.data.Dataset):\n",
        "    def __init__(self, num_classes=1000, num_samples=1000, image_size=224):\n",
        "        self.num_classes = num_classes\n",
        "        self.num_samples = num_samples\n",
        "        self.image_size = image_size\n",
        "        self.data = torch.randn(num_samples, 3, image_size, image_size)\n",
        "        self.targets = torch.randint(0, num_classes, (num_samples,))\n",
        "\n",
        "    def __len__(self):\n",
        "        return self.num_samples\n",
        "\n",
        "    def __getitem__(self, idx):\n",
        "        return self.data[idx], self.targets[idx]\n",
        "\n",
        "# Creating a Simulated ImageNet Dataset Example\n",
        "dataset = SimulatedImageNet(num_samples=1000)"
      ],
      "metadata": {
        "id": "qAIzF87_AGrF"
      },
      "execution_count": null,
      "outputs": []
    },
    {
      "cell_type": "code",
      "source": [
        "def place_patch(img, patch):\n",
        "    for i in range(img.shape[0]):\n",
        "        h_offset = np.random.randint(0, img.shape[2] - patch.shape[1] - 1)\n",
        "        w_offset = np.random.randint(0, img.shape[3] - patch.shape[2] - 1)\n",
        "        img[i, :, h_offset:h_offset+patch.shape[1], w_offset:w_offset+patch.shape[2]] = patch_forward(patch)\n",
        "    return img\n",
        "\n",
        "def patch_forward(patch):\n",
        "    patch = (torch.tanh(patch) + 1) / 2\n",
        "    return patch\n",
        "\n",
        "def eval_patch(model, patch, val_loader, target_class):\n",
        "    model.eval()\n",
        "    tp, tp_5, counter = 0., 0., 0.\n",
        "    with torch.no_grad():\n",
        "        for img, img_labels in tqdm(val_loader, desc=\"Validating...\", leave=False):\n",
        "            for _ in range(4):\n",
        "                patch_img = place_patch(img, patch)\n",
        "                patch_img = patch_img.to(device)\n",
        "                img_labels = img_labels.to(device)\n",
        "                pred = model(patch_img)\n",
        "                tp += torch.logical_and(pred.argmax(dim=-1) == target_class, img_labels != target_class).sum()\n",
        "                tp_5 += torch.logical_and((pred.topk(5, dim=-1)[1] == target_class).any(dim=-1), img_labels != target_class).sum()\n",
        "                counter += (img_labels != target_class).sum()\n",
        "    acc = tp/counter\n",
        "    top5 = tp_5/counter\n",
        "    return acc, top5\n",
        "\n",
        "def patch_attack(model, target_class, patch_size=64, num_epochs=5):\n",
        "    dataset_size = len(dataset)\n",
        "    train_size = int(0.8 * dataset_size)\n",
        "    val_size = dataset_size - train_size\n",
        "    train_set, val_set = torch.utils.data.random_split(dataset, [train_size, val_size])\n",
        "\n",
        "    train_loader = torch.utils.data.DataLoader(train_set, batch_size=16, shuffle=True, drop_last=True, num_workers=2)\n",
        "    val_loader = torch.utils.data.DataLoader(val_set, batch_size=16, shuffle=False, drop_last=False, num_workers=2)\n",
        "\n",
        "    if not isinstance(patch_size, tuple):\n",
        "        patch_size = (patch_size, patch_size)\n",
        "    patch = nn.Parameter(torch.zeros(3, patch_size[0], patch_size[1]), requires_grad=True)\n",
        "    optimizer = torch.optim.SGD([patch], lr=1e-1, momentum=0.8)\n",
        "    loss_module = nn.CrossEntropyLoss()\n",
        "\n",
        "    for epoch in range(num_epochs):\n",
        "        t = tqdm(train_loader, leave=False)\n",
        "        for img, _ in t:\n",
        "            img = place_patch(img, patch)\n",
        "            img = img.to(device)\n",
        "            pred = model(img)\n",
        "            labels = torch.zeros(img.shape[0], device=pred.device, dtype=torch.long).fill_(target_class)\n",
        "            loss = loss_module(pred, labels)\n",
        "            optimizer.zero_grad()\n",
        "            loss.mean().backward()\n",
        "            optimizer.step()\n",
        "            t.set_description(f\"Epoch {epoch}, Loss: {loss.item():4.2f}\")\n",
        "\n",
        "    acc, top5 = eval_patch(model, patch, val_loader, target_class)\n",
        "\n",
        "    return patch.data, {\"acc\": acc.item(), \"top5\": top5.item()}"
      ],
      "metadata": {
        "id": "eJOvSQX1HLid"
      },
      "execution_count": null,
      "outputs": []
    },
    {
      "cell_type": "markdown",
      "source": [
        "# Adversarial Patch Desk"
      ],
      "metadata": {
        "id": "FaYFMhxYgNt2"
      }
    },
    {
      "cell_type": "code",
      "source": [
        "# find desk\n",
        "desk_class_index = imagenet_classes.index(\"desk\")\n",
        "patch_sizes = [64]\n",
        "result_dict = {}\n",
        "\n",
        "for patch_size in patch_sizes:\n",
        "    patch, results = patch_attack(pretrained_model, target_class=desk_class_index, patch_size=patch_size, num_epochs=5)\n",
        "    result_dict[patch_size] = {\n",
        "        \"results\": results,\n",
        "        \"patch\": patch\n",
        "    }\n",
        "    print(f\"Results for desk patch of size {patch_size}:\", results)\n",
        "\n",
        "# save results\n",
        "def save_results(result_dict, filename=\"desk_patch_results_resnet34_cpu_small_simulated_imagenet.json\"):\n",
        "    save_dict = {str(psize): {\"acc\": results[\"results\"][\"acc\"], \"top5\": results[\"results\"][\"top5\"]}\n",
        "                 for psize, results in result_dict.items()}\n",
        "    with open(filename, \"w\") as f:\n",
        "        json.dump(save_dict, f, indent=4)\n",
        "\n",
        "save_results(result_dict)\n",
        "\n"
      ],
      "metadata": {
        "colab": {
          "base_uri": "https://localhost:8080/"
        },
        "id": "ruPi8FQjIbuS",
        "outputId": "5ec07213-28e7-4780-bcf8-661c2d5769c8"
      },
      "execution_count": null,
      "outputs": [
        {
          "output_type": "stream",
          "name": "stderr",
          "text": [
            "                                                              "
          ]
        },
        {
          "output_type": "stream",
          "name": "stdout",
          "text": [
            "Results for desk patch of size 64: {'acc': 0.0, 'top5': 0.0}\n"
          ]
        },
        {
          "output_type": "stream",
          "name": "stderr",
          "text": [
            "\r"
          ]
        }
      ]
    },
    {
      "cell_type": "code",
      "source": [
        "def show_patches(result_dict):\n",
        "    fig, ax = plt.subplots(1, 1, figsize=(4, 4))\n",
        "    for psize, results in result_dict.items():\n",
        "        patch = results[\"patch\"]\n",
        "        patch = (torch.tanh(patch) + 1) / 2\n",
        "        patch = patch.cpu().permute(1, 2, 0).numpy()\n",
        "        patch = np.clip(patch, a_min=0.0, a_max=1.0)\n",
        "        ax.imshow(patch)\n",
        "        ax.set_title(f\"Desk patch, size {psize}\")\n",
        "        ax.axis('off')\n",
        "    plt.tight_layout()\n",
        "    plt.show()\n",
        "\n",
        "show_patches(result_dict)"
      ],
      "metadata": {
        "colab": {
          "base_uri": "https://localhost:8080/",
          "height": 407
        },
        "id": "JvgLF6Rqbhrv",
        "outputId": "5a566146-3af6-4bec-b58a-05da3fd1af5c"
      },
      "execution_count": null,
      "outputs": [
        {
          "output_type": "display_data",
          "data": {
            "text/plain": [
              "<Figure size 400x400 with 1 Axes>"
            ],
            "image/png": "[encoded data removed]"
          },
          "metadata": {}
        }
      ]
    },
    {
      "cell_type": "markdown",
      "source": [
        "# Reference"
      ],
      "metadata": {
        "id": "eBIx0U8hg-xK"
      }
    },
    {
      "cell_type": "markdown",
      "source": [
        "Tutorial 10 Adversarial attacks: https://colab.research.google.com/github/phlippe/uvadlc_notebooks/blob/master/docs/tutorial_notebooks/tutorial10/Adversarial_Attacks.ipynb#scrollTo=JwbxjCgY9FWJ\n",
        "\n",
        "Chatgpt modification of Python code for generating adversarial patches."
      ],
      "metadata": {
        "id": "X5IcmQTVhCtq"
      }
    }
  ],
  "metadata": {
    "language_info": {
      "name": "python"
    },
    "colab": {
      "provenance": [],
      "include_colab_link": true
    },
    "kernelspec": {
      "name": "python3",
      "display_name": "Python 3"
    }
  },
  "nbformat": 4,
  "nbformat_minor": 0
}